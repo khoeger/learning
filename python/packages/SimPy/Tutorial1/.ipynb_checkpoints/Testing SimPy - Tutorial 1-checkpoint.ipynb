{
 "cells": [
  {
   "cell_type": "markdown",
   "metadata": {},
   "source": [
    "# Testing SimPy\n",
    "\n",
    "## Tutorial 1 \n",
    "https://simpy.readthedocs.io/en/latest/simpy_intro/basic_concepts.html\n",
    "\n",
    "Using Python 3.5. **This code, and some of the text was taken straight from the tutorial! It is not mine...**"
   ]
  },
  {
   "cell_type": "markdown",
   "metadata": {},
   "source": [
    "## Process\n",
    "\n",
    "### Car\n",
    "\n",
    "Make a car process. it requires reference to an environment so you can make new events. \n",
    "Car behavior is described using an infinite loop? So the car behavior will pass control to the simulation when the yield statment is  reached. Then, the simuation starts up from this event.\n",
    "\n",
    "Car States\n",
    "* Parking\n",
    "* Driving\n",
    "\n",
    "New states are announced by prinignt a message and the simulation time. (If you want to see simulation time yourself, use the property Envorinment.now)\n",
    "\n",
    "Environment.timeout() tells the simulationto end."
   ]
  },
  {
   "cell_type": "code",
   "execution_count": 2,
   "metadata": {
    "collapsed": true
   },
   "outputs": [],
   "source": [
    "def car(env):\n",
    "    while True:\n",
    "        print('Start parking a %d' % env.now)\n",
    "        parking_duration = 5\n",
    "        yield env.timeout(parking_duration)\n",
    "        \n",
    "        print('Start driving at %d' % env.now)\n",
    "        trip_duration = 2\n",
    "        yield env.timeout(trip_duration)"
   ]
  },
  {
   "cell_type": "markdown",
   "metadata": {},
   "source": [
    "### Behavior\n",
    "How does the car model behave?"
   ]
  },
  {
   "cell_type": "code",
   "execution_count": 3,
   "metadata": {
    "collapsed": false
   },
   "outputs": [
    {
     "name": "stdout",
     "output_type": "stream",
     "text": [
      "Start parking a 0\n",
      "Start driving at 5\n",
      "Start parking a 7\n",
      "Start driving at 12\n",
      "Start parking a 14\n"
     ]
    }
   ],
   "source": [
    "import simpy\n",
    "env = simpy.Environment()\n",
    "env.process(car(env))\n",
    "env.run(until=15)"
   ]
  },
  {
   "cell_type": "markdown",
   "metadata": {
    "collapsed": true
   },
   "source": [
    "## Process Interaction\n",
    "\n",
    "Processes created by Environment.process() can interact. For instance, they can wait for one another, or interrupt each other.\n",
    "\n",
    "### Waiting for a Process\n",
    "\n",
    "We changed the car to an electric vehicle so that we can explore how processes interact. This car has the following process mmethods:\n",
    "\n",
    "* run()\n",
    "    * starts automatically when car is instatiated\n",
    "* charge()\n",
    "    * starts every time car parks"
   ]
  },
  {
   "cell_type": "code",
   "execution_count": 4,
   "metadata": {
    "collapsed": true
   },
   "outputs": [],
   "source": [
    "class Car(object):\n",
    "    def __init__(self, env):\n",
    "        self.env = env # starts the run process each time a car instance is created\n",
    "        self.action = env.process(self.run())\n",
    "    \n",
    "    def run(self):\n",
    "        while True:\n",
    "            print('Start parking and charging at %d' % self.env.now)\n",
    "            charge_duration = 5\n",
    "            # yield process that that process() starts. wait for it to finish\n",
    "            yield self.env.process(self.charge(charge_duration))\n",
    "            print('Start driving at %d' % self.env.now)\n",
    "            trip_duration = 2\n",
    "            yield self.env.timeout(trip_duration)\n",
    "    \n",
    "    def charge(self,duration):\n",
    "        yield self.env.timeout(duration)"
   ]
  },
  {
   "cell_type": "markdown",
   "metadata": {},
   "source": [
    "Let's start the simulation!"
   ]
  },
  {
   "cell_type": "code",
   "execution_count": 5,
   "metadata": {
    "collapsed": false
   },
   "outputs": [
    {
     "name": "stdout",
     "output_type": "stream",
     "text": [
      "Start parking and charging at 0\n",
      "Start driving at 5\n",
      "Start parking and charging at 7\n",
      "Start driving at 12\n",
      "Start parking and charging at 14\n"
     ]
    }
   ],
   "source": [
    "import simpy\n",
    "env = simpy.Environment()\n",
    "car = Car(env)\n",
    "env.run(until=15)"
   ]
  },
  {
   "cell_type": "markdown",
   "metadata": {},
   "source": [
    "### Interrupting A Process\n",
    "\n",
    "Instead of waiting for the car to finish charging, interrupt the process and start driving"
   ]
  },
  {
   "cell_type": "code",
   "execution_count": 6,
   "metadata": {
    "collapsed": true
   },
   "outputs": [],
   "source": [
    "def driver(env, car):     \n",
    "    yield env.timeout(3)     \n",
    "    car.action.interrupt()"
   ]
  },
  {
   "cell_type": "code",
   "execution_count": 7,
   "metadata": {
    "collapsed": true
   },
   "outputs": [],
   "source": [
    "class Car2(object):\n",
    "    def __init__(self,env):\n",
    "        self.env = env\n",
    "        self.action = env.process(self.run())\n",
    "        \n",
    "    def run(self):\n",
    "        while True:\n",
    "            print('Start parking and charging at %d' % self.env.now)\n",
    "            charge_duration = 5 #might be interrupted\n",
    "        \n",
    "            try:\n",
    "                yield self.env.process(self.charge(charge_duration))\n",
    "            except simpy.Interrupt:\n",
    "                # if interrupt happens, switch to driving state\n",
    "                print('Was interrupted. Hope the battery is full enough...')\n",
    "        \n",
    "            print('Start driving at %d' % self.env.now)\n",
    "            trip_duration = 2\n",
    "            yield self.env.timeout(trip_duration)\n",
    "    \n",
    "    def charge(self, duration):\n",
    "        yield self.env.timeout(duration)\n"
   ]
  },
  {
   "cell_type": "markdown",
   "metadata": {},
   "source": [
    "Run simulation!"
   ]
  },
  {
   "cell_type": "code",
   "execution_count": 8,
   "metadata": {
    "collapsed": false
   },
   "outputs": [
    {
     "name": "stdout",
     "output_type": "stream",
     "text": [
      "Start parking and charging at 0\n",
      "Was interrupted. Hope the battery is full enough...\n",
      "Start driving at 3\n",
      "Start parking and charging at 5\n",
      "Start driving at 10\n",
      "Start parking and charging at 12\n"
     ]
    }
   ],
   "source": [
    "env = simpy.Environment()\n",
    "car2 = Car2(env)\n",
    "env.process(driver(env, car2))\n",
    "env.run(until=15)"
   ]
  },
  {
   "cell_type": "markdown",
   "metadata": {},
   "source": [
    "# Shared Resources\n",
    "\n",
    "There are 3 types of possible resources in SimPy.\n",
    "\n",
    "There is a Resource class.\n",
    "\n",
    "## Basic Resource Usage\n",
    "\n",
    "The car drives to a battery charging station (BCS), where there 2 charging spots. It needs to wait until one is available to use it."
   ]
  },
  {
   "cell_type": "code",
   "execution_count": 9,
   "metadata": {
    "collapsed": false
   },
   "outputs": [],
   "source": [
    "def car3(env, name, bcs, driving_time, charge_duration):\n",
    "    # Simulate driving to the BCS\n",
    "    yield env.timeout(driving_time)\n",
    "    \n",
    "    # Request one of its charging spots\n",
    "    print('%s arriving at %d' % (name, env.now))\n",
    "    with bcs.request() as req:\n",
    "        yield req\n",
    "        \n",
    "        #Charge the battery\n",
    "        print('% starting to charge at %s' % (name, env.now))\n",
    "        yield env.timeout(charge_duration)\n",
    "        print('%s levaing the bcs at %s' % (name, env.now))"
   ]
  },
  {
   "cell_type": "markdown",
   "metadata": {},
   "source": [
    "you need to wait for a resource slot until it is free. the request() method generates the event that does this. if you are using the resource slot you own it until you release it.\n",
    "\n",
    "normally FIFO\n",
    "\n",
    "resources reference an environment and a capacity"
   ]
  },
  {
   "cell_type": "code",
   "execution_count": 10,
   "metadata": {
    "collapsed": false
   },
   "outputs": [],
   "source": [
    "env3 = simpy.Environment()\n",
    "bcs = simpy.Resource(env3, capacity=2)"
   ]
  },
  {
   "cell_type": "code",
   "execution_count": 11,
   "metadata": {
    "collapsed": false
   },
   "outputs": [
    {
     "data": {
      "text/plain": [
       "<simpy.core.Environment at 0x1cfc9b6fcc0>"
      ]
     },
     "execution_count": 11,
     "metadata": {},
     "output_type": "execute_result"
    }
   ],
   "source": [
    "def pass_reference(car3,env3,bcs):\n",
    "    for i in range(4):\n",
    "        env3.process(car3(env3, 'Car %d' %i, bcs, i*2, 5))\n",
    "    return env3\n",
    "pass_reference(car3, env3, bcs)"
   ]
  },
  {
   "cell_type": "code",
   "execution_count": 12,
   "metadata": {
    "collapsed": false
   },
   "outputs": [
    {
     "name": "stdout",
     "output_type": "stream",
     "text": [
      "Car 0 arriving at 0\n",
      "Car 0tarting to charge at 0\n",
      "Car 1 arriving at 2\n",
      "Car 1tarting to charge at 2\n",
      "Car 2 arriving at 4\n",
      "Car 0 levaing the bcs at 5\n",
      "Car 2tarting to charge at 5\n",
      "Car 3 arriving at 6\n",
      "Car 1 levaing the bcs at 7\n",
      "Car 3tarting to charge at 7\n",
      "Car 2 levaing the bcs at 10\n",
      "Car 3 levaing the bcs at 12\n"
     ]
    }
   ],
   "source": [
    "env3.run()"
   ]
  },
  {
   "cell_type": "markdown",
   "metadata": {},
   "source": [
    "## **END OF TUTORIAL! **\n",
    "\n",
    "## Thoughts\n",
    "* faster to implement than building a simulation from scratch\n",
    "* have event clock figured out, highly important\n",
    "* still want to build my own simulation from scratch, but can use this to test music ideas\n",
    "\n",
    "#### Time to move on to using SimPy to model a simulation scenario!"
   ]
  },
  {
   "cell_type": "code",
   "execution_count": null,
   "metadata": {
    "collapsed": true
   },
   "outputs": [],
   "source": []
  }
 ],
 "metadata": {
  "kernelspec": {
   "display_name": "Python 3",
   "language": "python",
   "name": "python3"
  },
  "language_info": {
   "codemirror_mode": {
    "name": "ipython",
    "version": 3
   },
   "file_extension": ".py",
   "mimetype": "text/x-python",
   "name": "python",
   "nbconvert_exporter": "python",
   "pygments_lexer": "ipython3",
   "version": "3.5.3"
  }
 },
 "nbformat": 4,
 "nbformat_minor": 0
}
