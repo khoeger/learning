{
 "cells": [
  {
   "cell_type": "markdown",
   "metadata": {},
   "source": [
    "# Basic M/M/1 (Single Server Queue) Simulation\n",
    "\n",
    "This document is just supposed to be used to further explore the capabilities of SimPy."
   ]
  },
  {
   "cell_type": "markdown",
   "metadata": {},
   "source": [
    "## Sources\n",
    "*Simulation Modeling & Analysis, 4th Edition*. Law, Averill M. The McGraw-Hill Companies, Inc: New York, NY. 2007.\n",
    "\n",
    "Some of the explanations are taken almost verbatim from this book. They aren't mine. Please don't sue me. I'm using these as notes."
   ]
  },
  {
   "cell_type": "markdown",
   "metadata": {},
   "source": [
    "## Basics of Simulation\n",
    "\n",
    "A discrete event simlation models a system as it changes over time. It does so by having state variables change instantaneously at different points of time. \n",
    "\n",
    "### Important Variables\n",
    "t_i, time of arrival of the ith customer (t_0 = 0)\n",
    "\n",
    "A_i = t_i - t_(i-1), interarrival time between adjacent customers \n",
    "\n",
    "S_i = time that server actually spends serving ith customer\n",
    "\n",
    "D_i = delay in queue for ith customer\n",
    "\n",
    "c_i = t_i + D_i + S_i = tmie that ith customer completes service and departs \n",
    "\n",
    "e_i = time ofthe occurence of ith event of any type\n",
    "\n",
    "### Components/Organization of a Discrete-Event Simulation Model\n",
    "\n",
    "System state - collection of state variables necessary to describe the system at particular time\n",
    "\n",
    "Simulation clock - Variable givingthe curent value of simulated time\n",
    "\n",
    "Event list - list containing te next time when each type of event will occur\n",
    "\n",
    "Statistical counters - Variables used for storing statistical information about system performance\n",
    "\n",
    "Initialization routine -  subprogram to intialize the simulation model at time 0, then advance sim clock to the time when that type of event occurs. need one per type of event.\n",
    "\n",
    "Library routines - set of subprograms used to generate random observations from probability distributions taht were determined as part of the simulation model\n",
    "\n",
    "Report generator - subprogram that computes estimates of the desired measures of performance and produces a report when the simulation ends.\n",
    "\n",
    "main program - subprogram that involkes the timing routine to determine the next event/transfer control to the corresponding event routine to update the system state appropriately. May check termination and make sure the report generator starts. \n",
    "\n",
    "## Simple Simulation\n",
    "Have a store, 1 cashier. -> 1 server\n",
    "\n",
    "Customers come in, with an interarrival rate lambda = 5\n",
    "\n",
    "Serving a customer takes uniformly distributed time of 1.5-4\n",
    "\n",
    "Want to see what serving 10000 customers looks like\n",
    "\n"
   ]
  },
  {
   "cell_type": "markdown",
   "metadata": {},
   "source": [
    "---------------------------------------------------------------------------\n",
    "## Start Simulation\n",
    "\n",
    "### Packages"
   ]
  },
  {
   "cell_type": "code",
   "execution_count": 1,
   "metadata": {
    "collapsed": false
   },
   "outputs": [],
   "source": [
    "import random\n",
    "import simpy\n",
    "import numpy \n",
    "import scipy"
   ]
  },
  {
   "cell_type": "markdown",
   "metadata": {},
   "source": [
    "### Constants"
   ]
  },
  {
   "cell_type": "code",
   "execution_count": 2,
   "metadata": {
    "collapsed": true
   },
   "outputs": [],
   "source": [
    "lambda_val = 5\n",
    "no_cashieres = 1\n",
    "max_customers = 10#000\n",
    "max_serviceTime = 4\n",
    "min_serviceTime = 1.5"
   ]
  },
  {
   "cell_type": "markdown",
   "metadata": {},
   "source": [
    "### Intializations"
   ]
  },
  {
   "cell_type": "code",
   "execution_count": 3,
   "metadata": {
    "collapsed": true
   },
   "outputs": [],
   "source": [
    "random.seed(123456789)\n"
   ]
  },
  {
   "cell_type": "code",
   "execution_count": null,
   "metadata": {
    "collapsed": true
   },
   "outputs": [],
   "source": []
  }
 ],
 "metadata": {
  "kernelspec": {
   "display_name": "Python 3",
   "language": "python",
   "name": "python3"
  },
  "language_info": {
   "codemirror_mode": {
    "name": "ipython",
    "version": 3
   },
   "file_extension": ".py",
   "mimetype": "text/x-python",
   "name": "python",
   "nbconvert_exporter": "python",
   "pygments_lexer": "ipython3",
   "version": "3.5.3"
  }
 },
 "nbformat": 4,
 "nbformat_minor": 0
}
